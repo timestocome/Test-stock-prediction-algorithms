{
 "cells": [
  {
   "cell_type": "markdown",
   "metadata": {
    "id": "Rs4mFI33NzTt",
    "papermill": {
     "duration": 0.015881,
     "end_time": "2021-01-27T20:29:54.306990",
     "exception": false,
     "start_time": "2021-01-27T20:29:54.291109",
     "status": "completed"
    },
    "tags": []
   },
   "source": [
    "### JaneStreet\n",
    "### Plain NN\n"
   ]
  },
  {
   "cell_type": "code",
   "execution_count": null,
   "metadata": {},
   "outputs": [],
   "source": [
    "# Network for Jane Street Market Prediction on Kaggle\n",
    "# https://www.kaggle.com/c/jane-street-market-prediction\n",
    "# https://www.kaggle.com/wrinkledtime\n",
    "# https://github.com/timestocome"
   ]
  },
  {
   "cell_type": "code",
   "execution_count": null,
   "metadata": {},
   "outputs": [],
   "source": [
    "# The Jane Street competition has blinded data and the goal is to predict stock market winners 6 months from the start"
   ]
  },
  {
   "cell_type": "code",
   "execution_count": 1,
   "metadata": {
    "execution": {
     "iopub.execute_input": "2021-01-27T20:29:54.344596Z",
     "iopub.status.busy": "2021-01-27T20:29:54.343861Z",
     "iopub.status.idle": "2021-01-27T20:30:00.641703Z",
     "shell.execute_reply": "2021-01-27T20:30:00.640496Z"
    },
    "id": "FZi87UOTNzTz",
    "papermill": {
     "duration": 6.320377,
     "end_time": "2021-01-27T20:30:00.641850",
     "exception": false,
     "start_time": "2021-01-27T20:29:54.321473",
     "status": "completed"
    },
    "tags": []
   },
   "outputs": [],
   "source": [
    "from tensorflow.keras.layers import Input, Dense, BatchNormalization, Dropout, Activation\n",
    "from tensorflow.keras.models import Model, Sequential\n",
    "from tensorflow.keras.losses import BinaryCrossentropy\n",
    "from tensorflow.keras.optimizers import Adam\n",
    "from tensorflow.keras.callbacks import EarlyStopping\n",
    "from tensorflow.keras.layers.experimental.preprocessing import Normalization\n",
    "import tensorflow as tf\n",
    "import numpy as np\n",
    "import pandas as pd\n",
    "\n",
    "from sklearn.metrics import roc_auc_score, confusion_matrix"
   ]
  },
  {
   "cell_type": "code",
   "execution_count": 2,
   "metadata": {
    "execution": {
     "iopub.execute_input": "2021-01-27T20:30:00.676088Z",
     "iopub.status.busy": "2021-01-27T20:30:00.675317Z",
     "iopub.status.idle": "2021-01-27T20:30:00.678278Z",
     "shell.execute_reply": "2021-01-27T20:30:00.677758Z"
    },
    "id": "DBC1Hw04OxkG",
    "papermill": {
     "duration": 0.02159,
     "end_time": "2021-01-27T20:30:00.678377",
     "exception": false,
     "start_time": "2021-01-27T20:30:00.656787",
     "status": "completed"
    },
    "tags": []
   },
   "outputs": [],
   "source": [
    "\n",
    "TRAINING = True\n",
    "SUBMISSION = True\n",
    "TESTING = False\n",
    "KAGGLE = True\n"
   ]
  },
  {
   "cell_type": "code",
   "execution_count": 3,
   "metadata": {
    "execution": {
     "iopub.execute_input": "2021-01-27T20:30:00.712285Z",
     "iopub.status.busy": "2021-01-27T20:30:00.711594Z",
     "iopub.status.idle": "2021-01-27T20:30:00.714563Z",
     "shell.execute_reply": "2021-01-27T20:30:00.714095Z"
    },
    "executionInfo": {
     "elapsed": 30765,
     "status": "ok",
     "timestamp": 1611508248245,
     "user": {
      "displayName": "Linda MacPhee-Cobb",
      "photoUrl": "https://lh3.googleusercontent.com/a-/AOh14GhBpEF-T05LeQ_IZZzD_LXVOXWpb5GoN5aeslkgo0U=s64",
      "userId": "07974893846446562994"
     },
     "user_tz": 360
    },
    "id": "1oNb8cQcOdOy",
    "outputId": "a2481802-0980-4768-a670-b4e28f4bdccb",
    "papermill": {
     "duration": 0.021784,
     "end_time": "2021-01-27T20:30:00.714676",
     "exception": false,
     "start_time": "2021-01-27T20:30:00.692892",
     "status": "completed"
    },
    "tags": []
   },
   "outputs": [],
   "source": [
    "\n",
    "if not KAGGLE:\n",
    "    from google.colab import drive \n",
    "    drive.mount('/content/drive')"
   ]
  },
  {
   "cell_type": "code",
   "execution_count": 4,
   "metadata": {
    "execution": {
     "iopub.execute_input": "2021-01-27T20:30:00.751549Z",
     "iopub.status.busy": "2021-01-27T20:30:00.750958Z",
     "iopub.status.idle": "2021-01-27T20:32:26.167179Z",
     "shell.execute_reply": "2021-01-27T20:32:26.165698Z"
    },
    "id": "5Tb8hEWjOe5B",
    "papermill": {
     "duration": 145.438194,
     "end_time": "2021-01-27T20:32:26.167319",
     "exception": false,
     "start_time": "2021-01-27T20:30:00.729125",
     "status": "completed"
    },
    "tags": []
   },
   "outputs": [],
   "source": [
    "if not KAGGLE:\n",
    "    train = pd.read_csv('/content/drive/MyDrive/Kaggle Stock Prediction/train.csv')\n",
    "else:\n",
    "    train = pd.read_csv('/kaggle/input/jane-street-market-prediction/train.csv')\n"
   ]
  },
  {
   "cell_type": "code",
   "execution_count": 5,
   "metadata": {
    "execution": {
     "iopub.execute_input": "2021-01-27T20:32:26.216534Z",
     "iopub.status.busy": "2021-01-27T20:32:26.214292Z",
     "iopub.status.idle": "2021-01-27T20:32:29.037764Z",
     "shell.execute_reply": "2021-01-27T20:32:29.036674Z"
    },
    "id": "vyDqx1CROe1d",
    "papermill": {
     "duration": 2.853721,
     "end_time": "2021-01-27T20:32:29.037890",
     "exception": false,
     "start_time": "2021-01-27T20:32:26.184169",
     "status": "completed"
    },
    "tags": []
   },
   "outputs": [],
   "source": [
    "features = [c for c in train.columns if 'feature' in c]\n",
    "resps = [c for c in train.columns if 'resp_' in c]\n",
    "\n",
    "\n",
    "# remove 0 weight rows, they will always be zero for buys and it decreases accuracy\n",
    "train = train[train['weight'] > 0]\n",
    "\n",
    "\n",
    "# ffill is too slow, nan probably represents non-trading days\n",
    "#train.fillna(train.mean(),inplace=True)\n",
    "#f_mean = np.mean(train[features[1:]].values,axis=0)\n",
    "train.fillna(0, inplace=True)\n",
    "\n",
    "\n",
    "# reduce memory use\n",
    "train = train.astype({c: np.float32 for c in train.select_dtypes(include='float64').columns}) \n",
    "\n",
    "# setup targets\n",
    "train['action'] =  (  (train['resp_1'] > 0 ) & (train['resp_2'] > 0 ) & (train['resp_3'] > 0 ) & (train['resp_4'] > 0 ) ).astype('int')\n"
   ]
  },
  {
   "cell_type": "code",
   "execution_count": 6,
   "metadata": {
    "execution": {
     "iopub.execute_input": "2021-01-27T20:32:29.077122Z",
     "iopub.status.busy": "2021-01-27T20:32:29.076066Z",
     "iopub.status.idle": "2021-01-27T20:32:29.080350Z",
     "shell.execute_reply": "2021-01-27T20:32:29.079475Z"
    },
    "executionInfo": {
     "elapsed": 117745,
     "status": "ok",
     "timestamp": 1611508335237,
     "user": {
      "displayName": "Linda MacPhee-Cobb",
      "photoUrl": "https://lh3.googleusercontent.com/a-/AOh14GhBpEF-T05LeQ_IZZzD_LXVOXWpb5GoN5aeslkgo0U=s64",
      "userId": "07974893846446562994"
     },
     "user_tz": 360
    },
    "id": "Iz0EyMYme04R",
    "outputId": "70005822-11a1-45d7-8803-c52b37794031",
    "papermill": {
     "duration": 0.026747,
     "end_time": "2021-01-27T20:32:29.080517",
     "exception": false,
     "start_time": "2021-01-27T20:32:29.053770",
     "status": "completed"
    },
    "tags": []
   },
   "outputs": [
    {
     "name": "stdout",
     "output_type": "stream",
     "text": [
      "Index(['date', 'weight', 'resp_1', 'resp_2', 'resp_3', 'resp_4', 'resp',\n",
      "       'feature_0', 'feature_1', 'feature_2',\n",
      "       ...\n",
      "       'feature_122', 'feature_123', 'feature_124', 'feature_125',\n",
      "       'feature_126', 'feature_127', 'feature_128', 'feature_129', 'ts_id',\n",
      "       'action'],\n",
      "      dtype='object', length=139)\n"
     ]
    }
   ],
   "source": [
    "print(train.columns)"
   ]
  },
  {
   "cell_type": "code",
   "execution_count": 7,
   "metadata": {
    "execution": {
     "iopub.execute_input": "2021-01-27T20:32:29.131085Z",
     "iopub.status.busy": "2021-01-27T20:32:29.130191Z",
     "iopub.status.idle": "2021-01-27T20:32:29.136287Z",
     "shell.execute_reply": "2021-01-27T20:32:29.135793Z"
    },
    "id": "GoqhtUTFOeyr",
    "papermill": {
     "duration": 0.038172,
     "end_time": "2021-01-27T20:32:29.136389",
     "exception": false,
     "start_time": "2021-01-27T20:32:29.098217",
     "status": "completed"
    },
    "tags": []
   },
   "outputs": [],
   "source": [
    "# date shuffle\n",
    "# These are stock purchases in time with days running from 0..499\n",
    "# to prevent information bleed days must be grouped when shuffling data\n",
    "# if data is not shuffled then the current market trends will be built in and \n",
    "#    market trends may not hold\n",
    "\n",
    "\n",
    "max_date = train['date'].max()\n",
    "\n",
    "\n",
    "# create a range from first date to last, shuffle then split into two parts\n",
    "def get_dates():\n",
    "\n",
    "    dates = np.arange(0, max_date+1)\n",
    "    np.random.shuffle(dates)\n",
    "\n",
    "    train_dates = dates[0:440]\n",
    "    test_dates = dates[440:-1]\n",
    "\n",
    "    return train_dates, test_dates\n",
    "\n",
    "\n",
    "\n",
    "\n",
    "# collect shuffled dates and split data based on date\n",
    "def get_batch(features, df, shuffle):\n",
    "\n",
    "    if shuffle:\n",
    "        tr_dates, test_dates = get_dates()\n",
    "\n",
    "        test = df[df['date'].isin(test_dates)]\n",
    "        tr = df[df['date'].isin(tr_dates)]\n",
    "\n",
    "    else:\n",
    "        test = df[df['date'] > 420]\n",
    "        tr = df[df['date'] <= 420]\n",
    "\n",
    "\n",
    "    #0.0001 to cover rounding errors on 0. floats\n",
    "    X_train = tr[features] \n",
    "    y_train = np.stack([(tr[c] > 0.).astype('int') for c in resps]).T\n",
    "\n",
    "    X_val = test[features]\n",
    "    y_val = np.stack([(test[c] > 0.).astype('int') for c in resps]).T\n",
    "    \n",
    "    print(X_train.shape, y_train.shape, X_val.shape, y_val.shape)\n",
    "\n",
    "    return X_train, y_train, X_val, y_val\n"
   ]
  },
  {
   "cell_type": "code",
   "execution_count": 8,
   "metadata": {
    "execution": {
     "iopub.execute_input": "2021-01-27T20:32:29.182747Z",
     "iopub.status.busy": "2021-01-27T20:32:29.181916Z",
     "iopub.status.idle": "2021-01-27T20:32:29.184730Z",
     "shell.execute_reply": "2021-01-27T20:32:29.184238Z"
    },
    "id": "M4EpgXGTOewF",
    "papermill": {
     "duration": 0.031312,
     "end_time": "2021-01-27T20:32:29.184828",
     "exception": false,
     "start_time": "2021-01-27T20:32:29.153516",
     "status": "completed"
    },
    "tags": []
   },
   "outputs": [],
   "source": [
    "\n",
    "def check_scores(reg, X_tr, X_val, y_tr, y_val, th=0.5):\n",
    "\n",
    "    predict_train = reg.predict(X_tr)\n",
    "    predict_train = np.where(predict_train.mean(axis=1) > th, 1, 0)\n",
    "    y_tr = np.where(y_tr.mean(axis=1) > th, 1, 0)\n",
    "\n",
    "    score = roc_auc_score(y_tr, predict_train)\n",
    "    print('\\nTrain score %.2f' % (score * 100.))\n",
    "\n",
    "\n",
    "    predict_val = reg.predict(X_val)\n",
    "    predict_val = np.where(predict_val.mean(axis=1) > th, 1, 0)\n",
    "    y_val = np.where(y_val.mean(axis=1) > th, 1, 0)\n",
    "\n",
    "\n",
    "\n",
    "    score = roc_auc_score(y_val, predict_val)\n",
    "    print('Validation score %.2f' % (score* 100.))\n",
    "\n",
    "\n",
    "    print('\\ntotal buys train %d, validate %d' % (predict_val.sum(), y_val.sum()))\n",
    "    cm = confusion_matrix(y_val, predict_val)\n",
    "    print('true n, false p, false n, true p')\n",
    "    print(cm)\n",
    "    correct = cm[0][0] + cm[1][1]\n",
    "    print('\\ncorrect %d %.2f%% \\n' % (correct, correct/len(predict_val)* 100.))\n",
    "\n",
    "    print('val', y_tr[0:20])\n",
    "    print('predicted', predict_val[0:30])\n",
    "\n",
    "    return predict_val"
   ]
  },
  {
   "cell_type": "code",
   "execution_count": 9,
   "metadata": {
    "execution": {
     "iopub.execute_input": "2021-01-27T20:32:29.234932Z",
     "iopub.status.busy": "2021-01-27T20:32:29.233964Z",
     "iopub.status.idle": "2021-01-27T20:32:29.237002Z",
     "shell.execute_reply": "2021-01-27T20:32:29.236462Z"
    },
    "id": "QvGIdeb2wG-i",
    "papermill": {
     "duration": 0.03615,
     "end_time": "2021-01-27T20:32:29.237103",
     "exception": false,
     "start_time": "2021-01-27T20:32:29.200953",
     "status": "completed"
    },
    "tags": []
   },
   "outputs": [],
   "source": [
    "\n",
    "\n",
    "\n",
    "def create_model(num_columns=130, num_labels=5, hidden_units=160, dropout_rates=.25, label_smoothing=1e-2, learning_rate=1e-3):\n",
    "\n",
    "    inp = tf.keras.layers.Input(shape=(num_columns,))\n",
    "    x = tf.keras.layers.BatchNormalization()(inp)\n",
    "    x = tf.keras.layers.Dropout(dropout_rates)(x)\n",
    "\n",
    "    x = tf.keras.layers.Dense(hidden_units)(x)\n",
    "    x = tf.keras.layers.BatchNormalization()(x)\n",
    "    x = tf.keras.layers.Activation(tf.keras.activations.swish)(x)\n",
    "    x = tf.keras.layers.Dropout(dropout_rates)(x)\n",
    "\n",
    "    x = tf.keras.layers.Dense(hidden_units)(x)\n",
    "    x = tf.keras.layers.BatchNormalization()(x)\n",
    "    x = tf.keras.layers.Activation(tf.keras.activations.swish)(x)\n",
    "    x = tf.keras.layers.Dropout(dropout_rates)(x)\n",
    "\n",
    "    x = tf.keras.layers.Dense(hidden_units)(x)\n",
    "    x = tf.keras.layers.BatchNormalization()(x)\n",
    "    x = tf.keras.layers.Activation(tf.keras.activations.swish)(x)\n",
    "    x = tf.keras.layers.Dropout(dropout_rates)(x)\n",
    "\n",
    "\n",
    "    x = tf.keras.layers.Dense(num_labels)(x)\n",
    "    out = tf.keras.layers.Activation(\"sigmoid\")(x)\n",
    "\n",
    "    model = tf.keras.models.Model(inputs=inp, outputs=out)\n",
    "\n",
    "    model.compile(\n",
    "        optimizer=tf.keras.optimizers.Adam(learning_rate=learning_rate),\n",
    "        loss=tf.keras.losses.BinaryCrossentropy(label_smoothing=label_smoothing),\n",
    "        metrics=tf.keras.metrics.AUC(name=\"AUC\"),\n",
    "    )\n",
    "\n",
    "    return model\n",
    "\n"
   ]
  },
  {
   "cell_type": "code",
   "execution_count": 10,
   "metadata": {
    "execution": {
     "iopub.execute_input": "2021-01-27T20:32:29.277115Z",
     "iopub.status.busy": "2021-01-27T20:32:29.276120Z",
     "iopub.status.idle": "2021-01-27T20:32:30.262430Z",
     "shell.execute_reply": "2021-01-27T20:32:30.263042Z"
    },
    "executionInfo": {
     "elapsed": 118539,
     "status": "ok",
     "timestamp": 1611508336043,
     "user": {
      "displayName": "Linda MacPhee-Cobb",
      "photoUrl": "https://lh3.googleusercontent.com/a-/AOh14GhBpEF-T05LeQ_IZZzD_LXVOXWpb5GoN5aeslkgo0U=s64",
      "userId": "07974893846446562994"
     },
     "user_tz": 360
    },
    "id": "_XPLY_KUOetM",
    "outputId": "4a878ddd-357b-4c08-e97a-08396a909c59",
    "papermill": {
     "duration": 1.009575,
     "end_time": "2021-01-27T20:32:30.263219",
     "exception": false,
     "start_time": "2021-01-27T20:32:29.253644",
     "status": "completed"
    },
    "tags": []
   },
   "outputs": [
    {
     "name": "stdout",
     "output_type": "stream",
     "text": [
      "(1746766, 130) (1746766, 4) (230957, 130) (230957, 4)\n"
     ]
    }
   ],
   "source": [
    "X_train, y_train, X_val, y_val = get_batch(features, train, True)\n",
    "n_features = len(features)\n",
    "n_targets = len(resps)"
   ]
  },
  {
   "cell_type": "code",
   "execution_count": 11,
   "metadata": {
    "execution": {
     "iopub.execute_input": "2021-01-27T20:32:30.311995Z",
     "iopub.status.busy": "2021-01-27T20:32:30.310049Z",
     "iopub.status.idle": "2021-01-27T20:32:30.312763Z",
     "shell.execute_reply": "2021-01-27T20:32:30.313234Z"
    },
    "executionInfo": {
     "elapsed": 118535,
     "status": "ok",
     "timestamp": 1611508336045,
     "user": {
      "displayName": "Linda MacPhee-Cobb",
      "photoUrl": "https://lh3.googleusercontent.com/a-/AOh14GhBpEF-T05LeQ_IZZzD_LXVOXWpb5GoN5aeslkgo0U=s64",
      "userId": "07974893846446562994"
     },
     "user_tz": 360
    },
    "id": "NDym3fyioNy1",
    "outputId": "64ad55f3-b543-4c88-a538-735e032e23dc",
    "papermill": {
     "duration": 0.032801,
     "end_time": "2021-01-27T20:32:30.313351",
     "exception": false,
     "start_time": "2021-01-27T20:32:30.280550",
     "status": "completed"
    },
    "tags": []
   },
   "outputs": [],
   "source": [
    "\n",
    "\n",
    "def run_model(features, resps, df):\n",
    "\n",
    "    X_train, y_train, X_val, y_val = get_batch(features, df, False)\n",
    "\n",
    "    n_features = X_train.shape[-1]\n",
    "    n_resps = y_train.shape[-1]\n",
    "\n",
    "    model = create_model(n_features, n_resps)\n",
    "\n",
    "    #print('before training')\n",
    "    #check_scores(model, X_train, X_val, y_train, y_val)\n",
    "    #print('----------------------------------------------------')\n",
    "\n",
    "\n",
    "\n",
    "    history = model.fit(X_train, y_train, validation_data=(X_val, y_val), epochs=200, batch_size=1024, \n",
    "                callbacks=[EarlyStopping(monitor='val_AUC', mode='max', patience=20, restore_best_weights=True)])\n",
    "        \n",
    "\n",
    "\n",
    "    print('\\nbefore fine tuning',)\n",
    "    check_scores(model, X_train, X_val, y_train, y_val)\n",
    "    print('----------------------------------------------------')\n",
    "\n",
    "\n",
    "\n",
    "    # rebuild and fine tune model\n",
    "    model.compile(Adam(lr=0.0001), loss=BinaryCrossentropy(), metrics=[tf.keras.metrics.AUC(name='auc')])\n",
    "    ft_history = model.fit(X_val, y_val, epochs=3, batch_size=4096)\n",
    "    model_fname = ('fine_tuned_model.hdf5')\n",
    "    print(model_fname)\n",
    "    model.save(model_fname)\n",
    "\n",
    "\n",
    "    print('\\nfinished scores...')\n",
    "    check_scores(model, X_train, X_val, y_train, y_val)\n",
    "    print('----------------------------------------------------')\n",
    "\n",
    "\n",
    "    return model\n"
   ]
  },
  {
   "cell_type": "code",
   "execution_count": 12,
   "metadata": {
    "execution": {
     "iopub.execute_input": "2021-01-27T20:32:30.352730Z",
     "iopub.status.busy": "2021-01-27T20:32:30.351838Z",
     "iopub.status.idle": "2021-01-27T20:42:57.933113Z",
     "shell.execute_reply": "2021-01-27T20:42:57.931678Z"
    },
    "executionInfo": {
     "elapsed": 2662381,
     "status": "ok",
     "timestamp": 1611511397206,
     "user": {
      "displayName": "Linda MacPhee-Cobb",
      "photoUrl": "https://lh3.googleusercontent.com/a-/AOh14GhBpEF-T05LeQ_IZZzD_LXVOXWpb5GoN5aeslkgo0U=s64",
      "userId": "07974893846446562994"
     },
     "user_tz": 360
    },
    "id": "eJyHwPyB-0lD",
    "outputId": "5dc1dbd4-3113-4be9-bb51-d6b03a1e067c",
    "papermill": {
     "duration": 627.602863,
     "end_time": "2021-01-27T20:42:57.933229",
     "exception": false,
     "start_time": "2021-01-27T20:32:30.330366",
     "status": "completed"
    },
    "tags": []
   },
   "outputs": [
    {
     "name": "stdout",
     "output_type": "stream",
     "text": [
      "(1625019, 130) (1625019, 4) (356268, 130) (356268, 4)\n",
      "Epoch 1/200\n",
      "1587/1587 [==============================] - 11s 7ms/step - loss: 0.6930 - AUC: 0.5320 - val_loss: 0.6886 - val_AUC: 0.5505\n",
      "Epoch 2/200\n",
      "1587/1587 [==============================] - 11s 7ms/step - loss: 0.6896 - AUC: 0.5433 - val_loss: 0.6881 - val_AUC: 0.5527\n",
      "Epoch 3/200\n",
      "1587/1587 [==============================] - 11s 7ms/step - loss: 0.6892 - AUC: 0.5460 - val_loss: 0.6880 - val_AUC: 0.5534\n",
      "Epoch 4/200\n",
      "1587/1587 [==============================] - 11s 7ms/step - loss: 0.6890 - AUC: 0.5474 - val_loss: 0.6875 - val_AUC: 0.5551\n",
      "Epoch 5/200\n",
      "1587/1587 [==============================] - 11s 7ms/step - loss: 0.6887 - AUC: 0.5486 - val_loss: 0.6876 - val_AUC: 0.5542\n",
      "Epoch 6/200\n",
      "1587/1587 [==============================] - 11s 7ms/step - loss: 0.6886 - AUC: 0.5497 - val_loss: 0.6873 - val_AUC: 0.5560\n",
      "Epoch 7/200\n",
      "1587/1587 [==============================] - 10s 7ms/step - loss: 0.6884 - AUC: 0.5503 - val_loss: 0.6871 - val_AUC: 0.5576\n",
      "Epoch 8/200\n",
      "1587/1587 [==============================] - 11s 7ms/step - loss: 0.6883 - AUC: 0.5511 - val_loss: 0.6873 - val_AUC: 0.5559\n",
      "Epoch 9/200\n",
      "1587/1587 [==============================] - 11s 7ms/step - loss: 0.6882 - AUC: 0.5516 - val_loss: 0.6871 - val_AUC: 0.5571\n",
      "Epoch 10/200\n",
      "1587/1587 [==============================] - 11s 7ms/step - loss: 0.6880 - AUC: 0.5525 - val_loss: 0.6869 - val_AUC: 0.5573\n",
      "Epoch 11/200\n",
      "1587/1587 [==============================] - 11s 7ms/step - loss: 0.6879 - AUC: 0.5527 - val_loss: 0.6870 - val_AUC: 0.5578\n",
      "Epoch 12/200\n",
      "1587/1587 [==============================] - 11s 7ms/step - loss: 0.6878 - AUC: 0.5534 - val_loss: 0.6872 - val_AUC: 0.5557\n",
      "Epoch 13/200\n",
      "1587/1587 [==============================] - 10s 7ms/step - loss: 0.6877 - AUC: 0.5538 - val_loss: 0.6868 - val_AUC: 0.5581\n",
      "Epoch 14/200\n",
      "1587/1587 [==============================] - 11s 7ms/step - loss: 0.6877 - AUC: 0.5538 - val_loss: 0.6870 - val_AUC: 0.5582\n",
      "Epoch 15/200\n",
      "1587/1587 [==============================] - 11s 7ms/step - loss: 0.6876 - AUC: 0.5544 - val_loss: 0.6867 - val_AUC: 0.5584\n",
      "Epoch 16/200\n",
      "1587/1587 [==============================] - 10s 6ms/step - loss: 0.6875 - AUC: 0.5547 - val_loss: 0.6868 - val_AUC: 0.5577\n",
      "Epoch 17/200\n",
      "1587/1587 [==============================] - 11s 7ms/step - loss: 0.6874 - AUC: 0.5551 - val_loss: 0.6869 - val_AUC: 0.5574\n",
      "Epoch 18/200\n",
      "1587/1587 [==============================] - 11s 7ms/step - loss: 0.6873 - AUC: 0.5556 - val_loss: 0.6867 - val_AUC: 0.5577\n",
      "Epoch 19/200\n",
      "1587/1587 [==============================] - 10s 7ms/step - loss: 0.6873 - AUC: 0.5559 - val_loss: 0.6871 - val_AUC: 0.5569\n",
      "Epoch 20/200\n",
      "1587/1587 [==============================] - 11s 7ms/step - loss: 0.6872 - AUC: 0.5561 - val_loss: 0.6869 - val_AUC: 0.5569\n",
      "Epoch 21/200\n",
      "1587/1587 [==============================] - 11s 7ms/step - loss: 0.6871 - AUC: 0.5562 - val_loss: 0.6867 - val_AUC: 0.5575\n",
      "Epoch 22/200\n",
      "1587/1587 [==============================] - 10s 6ms/step - loss: 0.6871 - AUC: 0.5565 - val_loss: 0.6867 - val_AUC: 0.5573\n",
      "Epoch 23/200\n",
      "1587/1587 [==============================] - 11s 7ms/step - loss: 0.6870 - AUC: 0.5570 - val_loss: 0.6867 - val_AUC: 0.5579\n",
      "Epoch 24/200\n",
      "1587/1587 [==============================] - 11s 7ms/step - loss: 0.6869 - AUC: 0.5571 - val_loss: 0.6866 - val_AUC: 0.5585\n",
      "Epoch 25/200\n",
      "1587/1587 [==============================] - 10s 7ms/step - loss: 0.6868 - AUC: 0.5574 - val_loss: 0.6867 - val_AUC: 0.5572\n",
      "Epoch 26/200\n",
      "1587/1587 [==============================] - 11s 7ms/step - loss: 0.6868 - AUC: 0.5576 - val_loss: 0.6867 - val_AUC: 0.5584\n",
      "Epoch 27/200\n",
      "1587/1587 [==============================] - 11s 7ms/step - loss: 0.6868 - AUC: 0.5574 - val_loss: 0.6869 - val_AUC: 0.5575\n",
      "Epoch 28/200\n",
      "1587/1587 [==============================] - 10s 6ms/step - loss: 0.6867 - AUC: 0.5581 - val_loss: 0.6866 - val_AUC: 0.5580\n",
      "Epoch 29/200\n",
      "1587/1587 [==============================] - 11s 7ms/step - loss: 0.6866 - AUC: 0.5585 - val_loss: 0.6869 - val_AUC: 0.5571\n",
      "Epoch 30/200\n",
      "1587/1587 [==============================] - 11s 7ms/step - loss: 0.6866 - AUC: 0.5583 - val_loss: 0.6867 - val_AUC: 0.5572\n",
      "Epoch 31/200\n",
      "1587/1587 [==============================] - 10s 6ms/step - loss: 0.6866 - AUC: 0.5584 - val_loss: 0.6868 - val_AUC: 0.5577\n",
      "Epoch 32/200\n",
      "1587/1587 [==============================] - 12s 8ms/step - loss: 0.6865 - AUC: 0.5590 - val_loss: 0.6869 - val_AUC: 0.5569\n",
      "Epoch 33/200\n",
      "1587/1587 [==============================] - 11s 7ms/step - loss: 0.6864 - AUC: 0.5590 - val_loss: 0.6868 - val_AUC: 0.5571\n",
      "Epoch 34/200\n",
      "1587/1587 [==============================] - 10s 6ms/step - loss: 0.6864 - AUC: 0.5590 - val_loss: 0.6869 - val_AUC: 0.5578\n",
      "Epoch 35/200\n",
      "1587/1587 [==============================] - 12s 8ms/step - loss: 0.6863 - AUC: 0.5593 - val_loss: 0.6866 - val_AUC: 0.5581\n",
      "Epoch 36/200\n",
      "1587/1587 [==============================] - 11s 7ms/step - loss: 0.6863 - AUC: 0.5593 - val_loss: 0.6865 - val_AUC: 0.5585\n",
      "Epoch 37/200\n",
      "1587/1587 [==============================] - 11s 7ms/step - loss: 0.6863 - AUC: 0.5595 - val_loss: 0.6867 - val_AUC: 0.5578\n",
      "Epoch 38/200\n",
      "1587/1587 [==============================] - 13s 8ms/step - loss: 0.6863 - AUC: 0.5597 - val_loss: 0.6866 - val_AUC: 0.5576\n",
      "Epoch 39/200\n",
      "1587/1587 [==============================] - 12s 7ms/step - loss: 0.6862 - AUC: 0.5598 - val_loss: 0.6868 - val_AUC: 0.5578\n",
      "Epoch 40/200\n",
      "1587/1587 [==============================] - 11s 7ms/step - loss: 0.6862 - AUC: 0.5599 - val_loss: 0.6867 - val_AUC: 0.5576\n",
      "Epoch 41/200\n",
      "1587/1587 [==============================] - 13s 8ms/step - loss: 0.6861 - AUC: 0.5601 - val_loss: 0.6868 - val_AUC: 0.5579\n",
      "Epoch 42/200\n",
      "1587/1587 [==============================] - 11s 7ms/step - loss: 0.6861 - AUC: 0.5601 - val_loss: 0.6867 - val_AUC: 0.5580\n",
      "Epoch 43/200\n",
      "1587/1587 [==============================] - 10s 7ms/step - loss: 0.6861 - AUC: 0.5603 - val_loss: 0.6867 - val_AUC: 0.5578\n",
      "Epoch 44/200\n",
      "1587/1587 [==============================] - 12s 8ms/step - loss: 0.6860 - AUC: 0.5606 - val_loss: 0.6865 - val_AUC: 0.5584\n",
      "\n",
      "before fine tuning\n",
      "\n",
      "Train score 54.85\n",
      "Validation score 54.31\n",
      "\n",
      "total buys train 201741, validate 146797\n",
      "true n, false p, false n, true p\n",
      "[[ 98292 111179]\n",
      " [ 56235  90562]]\n",
      "\n",
      "correct 188854 53.01% \n",
      "\n",
      "val [0 0 0 1 0 1 1 0 0 0 0 0 1 0 1 0 1 1 1 1]\n",
      "predicted [1 1 0 1 0 1 1 1 0 0 1 0 0 0 0 0 0 1 0 1 0 0 1 0 1 0 0 0 1 0]\n",
      "----------------------------------------------------\n",
      "Epoch 1/3\n",
      "87/87 [==============================] - 1s 8ms/step - loss: 0.6882 - auc: 0.5509\n",
      "Epoch 2/3\n",
      "87/87 [==============================] - 1s 8ms/step - loss: 0.6878 - auc: 0.5526\n",
      "Epoch 3/3\n",
      "87/87 [==============================] - 1s 8ms/step - loss: 0.6874 - auc: 0.5539\n",
      "fine_tuned_model.hdf5\n",
      "\n",
      "finished scores...\n",
      "\n",
      "Train score 54.84\n",
      "Validation score 54.60\n",
      "\n",
      "total buys train 186479, validate 146797\n",
      "true n, false p, false n, true p\n",
      "[[107778 101693]\n",
      " [ 62011  84786]]\n",
      "\n",
      "correct 192564 54.05% \n",
      "\n",
      "val [0 0 0 1 0 1 1 0 0 0 0 0 1 0 1 0 1 1 1 1]\n",
      "predicted [1 1 0 1 0 1 1 0 0 0 1 0 0 0 0 0 0 1 0 1 0 0 1 0 1 0 0 0 1 0]\n",
      "----------------------------------------------------\n",
      "CPU times: user 13min 1s, sys: 1min 25s, total: 14min 27s\n",
      "Wall time: 10min 27s\n"
     ]
    }
   ],
   "source": [
    "%%time\n",
    "\n",
    "model = run_model(features, resps, train)"
   ]
  },
  {
   "cell_type": "code",
   "execution_count": 13,
   "metadata": {
    "execution": {
     "iopub.execute_input": "2021-01-27T20:43:03.985177Z",
     "iopub.status.busy": "2021-01-27T20:43:03.983351Z",
     "iopub.status.idle": "2021-01-27T20:43:03.985965Z",
     "shell.execute_reply": "2021-01-27T20:43:03.986441Z"
    },
    "executionInfo": {
     "elapsed": 432900,
     "status": "ok",
     "timestamp": 1611512219030,
     "user": {
      "displayName": "Linda MacPhee-Cobb",
      "photoUrl": "https://lh3.googleusercontent.com/a-/AOh14GhBpEF-T05LeQ_IZZzD_LXVOXWpb5GoN5aeslkgo0U=s64",
      "userId": "07974893846446562994"
     },
     "user_tz": 360
    },
    "id": "dNTsh3a7Ir8I",
    "outputId": "f2bcae96-df9b-4748-8429-9a99f837c0d1",
    "papermill": {
     "duration": 2.891905,
     "end_time": "2021-01-27T20:43:03.986562",
     "exception": false,
     "start_time": "2021-01-27T20:43:01.094657",
     "status": "completed"
    },
    "tags": []
   },
   "outputs": [],
   "source": [
    "def check_thresholds():\n",
    "    print('\\n0.49')\n",
    "    check_scores(model, X_train, X_val, y_train, y_val, th=0.490)\n",
    "    print('\\n0.495')\n",
    "    check_scores(model, X_train, X_val, y_train, y_val, th=0.495)\n",
    "    print('\\n0.50')\n",
    "    check_scores(model, X_train, X_val, y_train, y_val, th=0.500)\n",
    "    print('\\n0.505')\n",
    "    check_scores(model, X_train, X_val, y_train, y_val, th=0.505)\n",
    "    print('\\n0.510')\n",
    "    check_scores(model, X_train, X_val, y_train, y_val, th=0.510)\n",
    "    print('\\n0.515')\n",
    "    check_scores(model, X_train, X_val, y_train, y_val, th=0.515)\n",
    "\n",
    "if TESTING:\n",
    "    check_thresholds()"
   ]
  },
  {
   "cell_type": "code",
   "execution_count": 14,
   "metadata": {
    "execution": {
     "iopub.execute_input": "2021-01-27T20:43:09.784055Z",
     "iopub.status.busy": "2021-01-27T20:43:09.783015Z",
     "iopub.status.idle": "2021-01-27T20:43:09.835226Z",
     "shell.execute_reply": "2021-01-27T20:43:09.834686Z"
    },
    "id": "nuXI4Qh9IwaY",
    "papermill": {
     "duration": 2.973763,
     "end_time": "2021-01-27T20:43:09.835328",
     "exception": false,
     "start_time": "2021-01-27T20:43:06.861565",
     "status": "completed"
    },
    "tags": []
   },
   "outputs": [],
   "source": [
    "if not KAGGLE:\n",
    "    model.save('/content/drive/MyDrive/Kaggle Stock Prediction/model.hdf5')\n",
    "else:\n",
    "    model.save('model.hdf5')\n"
   ]
  },
  {
   "cell_type": "code",
   "execution_count": 15,
   "metadata": {
    "execution": {
     "iopub.execute_input": "2021-01-27T20:43:15.817187Z",
     "iopub.status.busy": "2021-01-27T20:43:15.802092Z",
     "iopub.status.idle": "2021-01-27T20:43:16.081674Z",
     "shell.execute_reply": "2021-01-27T20:43:16.082904Z"
    },
    "executionInfo": {
     "elapsed": 431913,
     "status": "ok",
     "timestamp": 1611512219768,
     "user": {
      "displayName": "Linda MacPhee-Cobb",
      "photoUrl": "https://lh3.googleusercontent.com/a-/AOh14GhBpEF-T05LeQ_IZZzD_LXVOXWpb5GoN5aeslkgo0U=s64",
      "userId": "07974893846446562994"
     },
     "user_tz": 360
    },
    "id": "YayrQqU-K_0V",
    "outputId": "c1e4cbb5-75dd-4340-e78b-045a3471e002",
    "papermill": {
     "duration": 3.159906,
     "end_time": "2021-01-27T20:43:16.083143",
     "exception": false,
     "start_time": "2021-01-27T20:43:12.923237",
     "status": "completed"
    },
    "tags": []
   },
   "outputs": [
    {
     "name": "stdout",
     "output_type": "stream",
     "text": [
      "Model: \"functional_1\"\n",
      "_________________________________________________________________\n",
      "Layer (type)                 Output Shape              Param #   \n",
      "=================================================================\n",
      "input_1 (InputLayer)         [(None, 130)]             0         \n",
      "_________________________________________________________________\n",
      "batch_normalization (BatchNo (None, 130)               520       \n",
      "_________________________________________________________________\n",
      "dropout (Dropout)            (None, 130)               0         \n",
      "_________________________________________________________________\n",
      "dense (Dense)                (None, 160)               20960     \n",
      "_________________________________________________________________\n",
      "batch_normalization_1 (Batch (None, 160)               640       \n",
      "_________________________________________________________________\n",
      "activation (Activation)      (None, 160)               0         \n",
      "_________________________________________________________________\n",
      "dropout_1 (Dropout)          (None, 160)               0         \n",
      "_________________________________________________________________\n",
      "dense_1 (Dense)              (None, 160)               25760     \n",
      "_________________________________________________________________\n",
      "batch_normalization_2 (Batch (None, 160)               640       \n",
      "_________________________________________________________________\n",
      "activation_1 (Activation)    (None, 160)               0         \n",
      "_________________________________________________________________\n",
      "dropout_2 (Dropout)          (None, 160)               0         \n",
      "_________________________________________________________________\n",
      "dense_2 (Dense)              (None, 160)               25760     \n",
      "_________________________________________________________________\n",
      "batch_normalization_3 (Batch (None, 160)               640       \n",
      "_________________________________________________________________\n",
      "activation_2 (Activation)    (None, 160)               0         \n",
      "_________________________________________________________________\n",
      "dropout_3 (Dropout)          (None, 160)               0         \n",
      "_________________________________________________________________\n",
      "dense_3 (Dense)              (None, 4)                 644       \n",
      "_________________________________________________________________\n",
      "activation_3 (Activation)    (None, 4)                 0         \n",
      "=================================================================\n",
      "Total params: 75,564\n",
      "Trainable params: 74,344\n",
      "Non-trainable params: 1,220\n",
      "_________________________________________________________________\n",
      "None\n"
     ]
    }
   ],
   "source": [
    "\n",
    "if not KAGGLE:\n",
    "    saved_model = tf.keras.models.load_model('/content/drive/MyDrive/Kaggle Stock Prediction/model.hdf5')\n",
    "else:\n",
    "    saved_model = tf.keras.models.load_model('model.hdf5')\n",
    "\n",
    "\n",
    "print(saved_model.summary())"
   ]
  },
  {
   "cell_type": "code",
   "execution_count": 16,
   "metadata": {
    "execution": {
     "iopub.execute_input": "2021-01-27T20:43:22.189576Z",
     "iopub.status.busy": "2021-01-27T20:43:22.188668Z",
     "iopub.status.idle": "2021-01-27T20:43:22.194036Z",
     "shell.execute_reply": "2021-01-27T20:43:22.194840Z"
    },
    "executionInfo": {
     "elapsed": 61144,
     "status": "ok",
     "timestamp": 1611511845736,
     "user": {
      "displayName": "Linda MacPhee-Cobb",
      "photoUrl": "https://lh3.googleusercontent.com/a-/AOh14GhBpEF-T05LeQ_IZZzD_LXVOXWpb5GoN5aeslkgo0U=s64",
      "userId": "07974893846446562994"
     },
     "user_tz": 360
    },
    "id": "-DKx_PFpX8uS",
    "outputId": "fcaeebea-8cd9-4054-fd08-862560d4377e",
    "papermill": {
     "duration": 3.108219,
     "end_time": "2021-01-27T20:43:22.195033",
     "exception": false,
     "start_time": "2021-01-27T20:43:19.086814",
     "status": "completed"
    },
    "tags": []
   },
   "outputs": [],
   "source": [
    "if TESTING:\n",
    "    model = saved_model\n",
    "    check_scores(model, X_train, X_val, y_train, y_val, th=0.495)"
   ]
  },
  {
   "cell_type": "code",
   "execution_count": 17,
   "metadata": {
    "execution": {
     "iopub.execute_input": "2021-01-27T20:43:28.739261Z",
     "iopub.status.busy": "2021-01-27T20:43:28.736026Z",
     "iopub.status.idle": "2021-01-27T20:44:32.781193Z",
     "shell.execute_reply": "2021-01-27T20:44:32.782003Z"
    },
    "executionInfo": {
     "elapsed": 430204,
     "status": "error",
     "timestamp": 1611512219773,
     "user": {
      "displayName": "Linda MacPhee-Cobb",
      "photoUrl": "https://lh3.googleusercontent.com/a-/AOh14GhBpEF-T05LeQ_IZZzD_LXVOXWpb5GoN5aeslkgo0U=s64",
      "userId": "07974893846446562994"
     },
     "user_tz": 360
    },
    "id": "Ll6WbpZYNzT3",
    "outputId": "a9d93c21-a52a-4708-915f-bdd3685049e6",
    "papermill": {
     "duration": 67.405905,
     "end_time": "2021-01-27T20:44:32.782163",
     "exception": false,
     "start_time": "2021-01-27T20:43:25.376258",
     "status": "completed"
    },
    "tags": []
   },
   "outputs": [
    {
     "name": "stdout",
     "output_type": "stream",
     "text": [
      "(1746766, 130) (1746766, 4)\n",
      "(230957, 130) (230957, 4)\n",
      "\n",
      "Train score 54.78\n",
      "Validation score 54.91\n",
      "\n",
      "total buys train 120921, validate 95836\n",
      "true n, false p, false n, true p\n",
      "[[69881 65240]\n",
      " [40155 55681]]\n",
      "\n",
      "correct 125562 54.37% \n",
      "\n",
      "val [0 0 0 1 0 1 1 0 0 0 0 0 1 0 1 0 1 1 1 1]\n",
      "predicted [1 1 1 1 1 0 0 1 0 1 1 1 1 0 1 0 0 0 0 1 1 1 0 1 0 1 1 0 0 1]\n"
     ]
    }
   ],
   "source": [
    "\n",
    "# if training, pull out unseen test data and see if it looks okay ( not all 1s or 0s) and is close to training accuracy\n",
    "if TRAINING:\n",
    "\n",
    "    # split into test/train for sanity checking\n",
    "    n_train = len(train)\n",
    "    n_test = int(n_train * .1)\n",
    "    train_idx = 0\n",
    "    test_idx = n_train - n_test\n",
    "\n",
    "    print(X_train.shape, y_train.shape)\n",
    "    print(X_val.shape, y_val.shape)\n",
    "\n",
    "    n_inputs = X_train.shape[1]\n",
    "    n_outputs = y_train.shape[1]\n",
    "\n",
    "\n",
    "    check_scores(model, X_train, X_val, y_train, y_val)\n"
   ]
  },
  {
   "cell_type": "code",
   "execution_count": 18,
   "metadata": {
    "execution": {
     "iopub.execute_input": "2021-01-27T20:44:39.257335Z",
     "iopub.status.busy": "2021-01-27T20:44:39.256468Z",
     "iopub.status.idle": "2021-01-27T20:44:39.263567Z",
     "shell.execute_reply": "2021-01-27T20:44:39.264701Z"
    },
    "id": "eA96SWDwNzT4",
    "papermill": {
     "duration": 3.160329,
     "end_time": "2021-01-27T20:44:39.264874",
     "exception": false,
     "start_time": "2021-01-27T20:44:36.104545",
     "status": "completed"
    },
    "tags": []
   },
   "outputs": [
    {
     "name": "stdout",
     "output_type": "stream",
     "text": [
      "CPU times: user 6 µs, sys: 0 ns, total: 6 µs\n",
      "Wall time: 10.7 µs\n"
     ]
    }
   ],
   "source": [
    "%%time\n",
    "\n",
    "if TESTING:\n",
    "    \n",
    "    test_df = pd.read_csv('/kaggle/input/jane-street-market-prediction/example_test.csv')\n",
    "    test_df = test_df.astype({c: np.float32 for c in train.select_dtypes(include='float64').columns})\n",
    "\n",
    "    \n",
    "    \n",
    "    import janestreet\n",
    "    env = janestreet.make_env()\n",
    "    th = 0.515\n",
    "\n",
    "    for (test_df, pred_df) in env.iter_test():\n",
    "\n",
    "        if test_df['weight'].item() > 0:\n",
    "            # fetch a row, convert to numpy array\n",
    "            x_tt = test_df.loc[:, features]\n",
    "\n",
    "            # remove nan\n",
    "            x_tt.fillna(0, inplace=True)\n",
    "\n",
    "            # use model to make prediction\n",
    "            preds = model(x_tt.values)\n",
    "           \n",
    "            # compare predicted return to threshold and buy if over threshold\n",
    "            pred_df['action'] = np.where(preds.mean(axis=1) >= th, 1, 0).astype(int)\n",
    "\n",
    "        else:\n",
    "            # if weight 0 pass on this one\n",
    "            pred_df.action = 0\n",
    "\n",
    "        env.predict(pred_df)"
   ]
  },
  {
   "cell_type": "code",
   "execution_count": 19,
   "metadata": {
    "execution": {
     "iopub.execute_input": "2021-01-27T20:44:45.425431Z",
     "iopub.status.busy": "2021-01-27T20:44:45.424586Z",
     "iopub.status.idle": "2021-01-27T20:48:50.243331Z",
     "shell.execute_reply": "2021-01-27T20:48:50.244143Z"
    },
    "id": "K805sgAuNzT4",
    "papermill": {
     "duration": 247.871132,
     "end_time": "2021-01-27T20:48:50.244372",
     "exception": false,
     "start_time": "2021-01-27T20:44:42.373240",
     "status": "completed"
    },
    "tags": []
   },
   "outputs": [
    {
     "name": "stdout",
     "output_type": "stream",
     "text": [
      "submission...\n",
      "finished\n"
     ]
    }
   ],
   "source": [
    "\n",
    "\n",
    "print('submission...')\n",
    "def fetch_model():\n",
    "    if not KAGGLE:\n",
    "        saved_model = tf.keras.models.load_model('/content/drive/MyDrive/Kaggle Stock Prediction/model.hdf5')\n",
    "    else:\n",
    "        saved_model = tf.keras.models.load_model('model.hdf5')\n",
    "\n",
    "    print(saved_model.summary())\n",
    "\n",
    "    return saved_model\n",
    "\n",
    "\n",
    "th = 0.515\n",
    "\n",
    "if SUBMISSION:\n",
    "        \n",
    "    #model = fetch_model()\n",
    "\n",
    "    import janestreet\n",
    "    env = janestreet.make_env()\n",
    "    \n",
    "    \n",
    "    for (test_df, pred_df) in env.iter_test():\n",
    "\n",
    "        if test_df['weight'].item() > 0:\n",
    "    \n",
    "            # fetch row \n",
    "            x_tt = test_df.loc[:, features]\n",
    "                \n",
    "            # remove nan\n",
    "            x_tt.fillna(0, inplace=True)\n",
    "            \n",
    "            # use model to make a prediction\n",
    "            pred = model(x_tt.values)\n",
    "            \n",
    "            # convrt the targets down to one and see if overthreshold\n",
    "            pred = np.mean(pred, axis=1)\n",
    "            pred_df['action'] = np.where(pred > th, 1, 0).astype(int)\n",
    "\n",
    "                \n",
    "                \n",
    "        else:\n",
    "            pred_df['action'] = 0\n",
    "            \n",
    "            \n",
    "        env.predict(pred_df)\n",
    "print('finished')"
   ]
  }
 ],
 "metadata": {
  "kernelspec": {
   "display_name": "Python 3",
   "language": "python",
   "name": "python3"
  },
  "language_info": {
   "codemirror_mode": {
    "name": "ipython",
    "version": 3
   },
   "file_extension": ".py",
   "mimetype": "text/x-python",
   "name": "python",
   "nbconvert_exporter": "python",
   "pygments_lexer": "ipython3",
   "version": "3.6.8"
  },
  "papermill": {
   "duration": 1144.984814,
   "end_time": "2021-01-27T20:48:54.872415",
   "environment_variables": {},
   "exception": null,
   "input_path": "__notebook__.ipynb",
   "output_path": "__notebook__.ipynb",
   "parameters": {},
   "start_time": "2021-01-27T20:29:49.887601",
   "version": "2.1.0"
  }
 },
 "nbformat": 4,
 "nbformat_minor": 4
}
